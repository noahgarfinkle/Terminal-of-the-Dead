{
 "cells": [
  {
   "cell_type": "code",
   "execution_count": null,
   "metadata": {},
   "outputs": [],
   "source": [
    "gameOver = False\n",
    "print(\"Welcome to: Terminal of the Dead (Jupyter Version)\")\n",
    "print(\"As the infection spreads outside, you are safely locked inside the bunker.  Fortunate, you think, but not quite fortunate enough.\")\n",
    "print(\"As the infection spread, you were forced to make decisions.  And your wrong decisions are already catching up with you.\")\n",
    "print(\"A thud at the door.  Scratching, growling.  Why did you lock yourself in this room.  There's no food in here, no real weapons.  Just one exit.\")\n",
    "while gameOver == False:\n",
    "    userInput  = input(\"> \")\n",
    "    if userInput == \"quit\" or userInput == \"exit\":\n",
    "        gameOver = True\n",
    "    else:\n",
    "        print(userInput)"
   ]
  },
  {
   "cell_type": "code",
   "execution_count": null,
   "metadata": {},
   "outputs": [],
   "source": []
  }
 ],
 "metadata": {
  "kernelspec": {
   "display_name": "py36",
   "language": "python",
   "name": "py36"
  },
  "language_info": {
   "codemirror_mode": {
    "name": "ipython",
    "version": 3
   },
   "file_extension": ".py",
   "mimetype": "text/x-python",
   "name": "python",
   "nbconvert_exporter": "python",
   "pygments_lexer": "ipython3",
   "version": "3.6.6"
  }
 },
 "nbformat": 4,
 "nbformat_minor": 2
}
